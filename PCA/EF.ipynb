{
 "cells": [
  {
   "cell_type": "markdown",
   "metadata": {},
   "source": [
    "# Eigenface example"
   ]
  },
  {
   "cell_type": "code",
   "execution_count": 1,
   "metadata": {
    "collapsed": true
   },
   "outputs": [],
   "source": [
    "import numpy as np \n",
    "from PIL import Image\n",
    "import os"
   ]
  },
  {
   "cell_type": "code",
   "execution_count": 2,
   "metadata": {
    "collapsed": true
   },
   "outputs": [
    {
     "ename": "FileNotFoundError",
     "evalue": "[Errno 2] No such file or directory: 'unpadded/subject01.centerlight.jpg'",
     "output_type": "error",
     "traceback": [
      "\u001b[1;31m---------------------------------------------------------------------------\u001b[0m",
      "\u001b[1;31mFileNotFoundError\u001b[0m                         Traceback (most recent call last)",
      "Cell \u001b[1;32mIn[2], line 14\u001b[0m\n\u001b[0;32m     10\u001b[0m fn \u001b[38;5;241m=\u001b[39m os\u001b[38;5;241m.\u001b[39mpath\u001b[38;5;241m.\u001b[39mjoin(path, \u001b[38;5;124mf\u001b[39m\u001b[38;5;124m'\u001b[39m\u001b[38;5;132;01m{\u001b[39;00mprefix\u001b[38;5;132;01m}\u001b[39;00m\u001b[38;5;124m01.\u001b[39m\u001b[38;5;132;01m{\u001b[39;00mstates[\u001b[38;5;241m0\u001b[39m]\u001b[38;5;132;01m}\u001b[39;00m\u001b[38;5;132;01m{\u001b[39;00msuffix\u001b[38;5;132;01m}\u001b[39;00m\u001b[38;5;124m'\u001b[39m)\n\u001b[0;32m     12\u001b[0m \u001b[38;5;66;03m# Doc anh bang PIL\u001b[39;00m\n\u001b[0;32m     13\u001b[0m \u001b[38;5;66;03m# chuyen sang anh grayscale\u001b[39;00m\n\u001b[1;32m---> 14\u001b[0m img \u001b[38;5;241m=\u001b[39m \u001b[43mImage\u001b[49m\u001b[38;5;241;43m.\u001b[39;49m\u001b[43mopen\u001b[49m\u001b[43m(\u001b[49m\u001b[43mfn\u001b[49m\u001b[43m)\u001b[49m\u001b[38;5;241m.\u001b[39mconvert(\u001b[38;5;124m'\u001b[39m\u001b[38;5;124mL\u001b[39m\u001b[38;5;124m'\u001b[39m)  \n\u001b[0;32m     15\u001b[0m \u001b[38;5;66;03m# resize ve dung kich thuoc\u001b[39;00m\n\u001b[0;32m     16\u001b[0m img \u001b[38;5;241m=\u001b[39m img\u001b[38;5;241m.\u001b[39mresize((\u001b[38;5;241m98\u001b[39m, \u001b[38;5;241m116\u001b[39m))     \n",
      "File \u001b[1;32m~\\AppData\\Roaming\\Python\\Python39\\site-packages\\PIL\\Image.py:3465\u001b[0m, in \u001b[0;36mopen\u001b[1;34m(fp, mode, formats)\u001b[0m\n\u001b[0;32m   3462\u001b[0m     filename \u001b[38;5;241m=\u001b[39m os\u001b[38;5;241m.\u001b[39mfspath(fp)\n\u001b[0;32m   3464\u001b[0m \u001b[38;5;28;01mif\u001b[39;00m filename:\n\u001b[1;32m-> 3465\u001b[0m     fp \u001b[38;5;241m=\u001b[39m \u001b[43mbuiltins\u001b[49m\u001b[38;5;241;43m.\u001b[39;49m\u001b[43mopen\u001b[49m\u001b[43m(\u001b[49m\u001b[43mfilename\u001b[49m\u001b[43m,\u001b[49m\u001b[43m \u001b[49m\u001b[38;5;124;43m\"\u001b[39;49m\u001b[38;5;124;43mrb\u001b[39;49m\u001b[38;5;124;43m\"\u001b[39;49m\u001b[43m)\u001b[49m\n\u001b[0;32m   3466\u001b[0m     exclusive_fp \u001b[38;5;241m=\u001b[39m \u001b[38;5;28;01mTrue\u001b[39;00m\n\u001b[0;32m   3467\u001b[0m \u001b[38;5;28;01melse\u001b[39;00m:\n",
      "\u001b[1;31mFileNotFoundError\u001b[0m: [Errno 2] No such file or directory: 'unpadded/subject01.centerlight.jpg'"
     ]
    }
   ],
   "source": [
    "path = 'unpadded/'  \n",
    "ids = range(1, 16)   \n",
    "states = ['centerlight', 'glasses', 'happy', 'leftlight', \n",
    "          'noglasses', 'normal', 'rightlight','sad', \n",
    "          'sleepy', 'surprised', 'wink']\n",
    "prefix = 'subject'\n",
    "suffix = '.jpg'\n",
    "\n",
    "# Lay anh dau tien lam vi du\n",
    "fn = os.path.join(path, f'{prefix}01.{states[0]}{suffix}')\n",
    "\n",
    "# Doc anh bang PIL\n",
    "# chuyen sang anh grayscale\n",
    "img = Image.open(fn).convert('L')  \n",
    "# resize ve dung kich thuoc\n",
    "img = img.resize((98, 116))     \n",
    "# chuyen thanh numpy array   \n",
    "img_array = np.array(img)          \n",
    "\n",
    "h = 116  \n",
    "w = 98   \n",
    "D = h * w\n",
    "N = len(states) * 15\n",
    "\n",
    "X = np.zeros((D, N))\n",
    "X[:, 0] = img_array.reshape(D)"
   ]
  },
  {
   "cell_type": "code",
   "execution_count": null,
   "metadata": {
    "collapsed": true
   },
   "outputs": [],
   "source": [
    "# collect all data\n",
    "from PIL import Image\n",
    "\n",
    "cnt = 0 \n",
    "for person_id in range(1, 16):\n",
    "    for state in states:\n",
    "        fn = path + prefix + str(person_id).zfill(2) + '.' + state + suffix\n",
    "        try:\n",
    "            # chuyen sang anh xam\n",
    "            img = Image.open(fn).convert('L')  \n",
    "            # resize ve kich thuoc 98x116     \n",
    "            img = img.resize((w, h))           \n",
    "            # dua anh ve vector 1 chieu     \n",
    "            X[:, cnt] = np.array(img).reshape(D)    \n",
    "            cnt += 1\n",
    "        except Exception as e:\n",
    "            print(f'Loi khi xu ly {fn}: {e}')\n"
   ]
  },
  {
   "cell_type": "code",
   "execution_count": null,
   "metadata": {},
   "outputs": [],
   "source": [
    "# Doing PCA, note that each row is a datapoint\n",
    "from sklearn.decomposition import PCA\n",
    "pca = PCA(n_components=100) # k = 100 \n",
    "pca.fit(X.T)"
   ]
  },
  {
   "cell_type": "code",
   "execution_count": null,
   "metadata": {
    "collapsed": true
   },
   "outputs": [],
   "source": [
    "# projection matrix \n",
    "U = pca.components_.T"
   ]
  },
  {
   "cell_type": "code",
   "execution_count": null,
   "metadata": {
    "collapsed": true
   },
   "outputs": [],
   "source": [
    "import matplotlib.pyplot as plt\n",
    "for i in range(U.shape[1]):\n",
    "    plt.axis('off')\n",
    "    f1 = plt.imshow(U[:, i].reshape(116, 98), interpolation='nearest')\n",
    "    f1.axes.get_xaxis().set_visible(False)\n",
    "    f1.axes.get_yaxis().set_visible(False)\n",
    "#     f2 = plt.imshow(, interpolation='nearest' )\n",
    "    plt.gray()\n",
    "    fn = 'eigenface' + str(i).zfill(2) + '.png'\n",
    "    plt.savefig(fn, bbox_inches='tight', pad_inches=0)\n",
    "#    plt.show()\n",
    "    \n"
   ]
  },
  {
   "cell_type": "code",
   "execution_count": null,
   "metadata": {},
   "outputs": [],
   "source": [
    "from PIL import Image\n",
    "import matplotlib.pyplot as plt\n",
    "import numpy as np\n",
    "\n",
    "# See reconstruction of first 6 persons \n",
    "for person_id in range(1, 7):\n",
    "    for state in ['centerlight']:\n",
    "        fn = path + prefix + str(person_id).zfill(2) + '.' + state + suffix\n",
    "        img = Image.open(fn).convert('L')\n",
    "        img = img.resize((98, 116))  \n",
    "        im = np.array(img)\n",
    "\n",
    "        # HIỂN THỊ ẢNH GỐC\n",
    "        plt.figure()\n",
    "        plt.axis('off')\n",
    "        f1 = plt.imshow(im, interpolation='nearest')\n",
    "        plt.text(5, 10, 'Ảnh gốc', fontsize=10, color='red', backgroundcolor='white')\n",
    "        fn = 'ori' + str(person_id).zfill(2) + '.png'\n",
    "        plt.savefig(fn, bbox_inches='tight', pad_inches=0)\n",
    "        plt.show()\n",
    "\n",
    "        # PCA: reshape và trừ mean\n",
    "        x = im.reshape(D, 1) - pca.mean_.reshape(D, 1)\n",
    "        # encode\n",
    "        z = U.T.dot(x)  \n",
    "        # decode\n",
    "        x_tilde = U.dot(z) + pca.mean_.reshape(D, 1) \n",
    "\n",
    "        # reshape về kích thước ảnh gốc\n",
    "        im_tilde = x_tilde.reshape(116, 98)\n",
    "\n",
    "        # HIỂN THỊ ẢNH TÁI DỰNG\n",
    "        plt.figure()\n",
    "        plt.axis('off')\n",
    "        f2 = plt.imshow(im_tilde, interpolation='nearest')\n",
    "        plt.text(5, 10, 'Tái dựng', fontsize=10, color='blue', backgroundcolor='white')\n",
    "        fn = 'res' + str(person_id).zfill(2) + '.png'\n",
    "        plt.savefig(fn, bbox_inches='tight', pad_inches=0)\n",
    "        plt.show()\n"
   ]
  },
  {
   "cell_type": "code",
   "execution_count": null,
   "metadata": {},
   "outputs": [],
   "source": [
    "# HIỂN THỊ VECTOR ĐÃ ENCODE (z) - chỉ để trực quan hóa\n",
    "plt.figure()\n",
    "plt.axis('off')\n",
    "z_img = z.reshape(10, 10)  # reshape (100, 1) thành (10, 10) cho dễ nhìn\n",
    "plt.imshow(z_img, cmap='gray', interpolation='nearest')\n",
    "plt.text(1, 1, 'Đã encode (z)', fontsize=10, color='green', backgroundcolor='white')\n",
    "fn = 'enc' + str(person_id).zfill(2) + '.png'\n",
    "plt.savefig(fn, bbox_inches='tight', pad_inches=0)\n",
    "plt.show()\n"
   ]
  },
  {
   "cell_type": "code",
   "execution_count": null,
   "metadata": {},
   "outputs": [],
   "source": [
    "# Tính sai số tái dựng (MSE) cho 6 người đầu tiên\n",
    "reconstruction_errors = []\n",
    "\n",
    "for person_id in range(1, 7):\n",
    "    for state in ['centerlight']:\n",
    "        fn = path + prefix + str(person_id).zfill(2) + '.' + state + suffix\n",
    "        img = Image.open(fn).convert('L')\n",
    "        img = img.resize((98, 116))\n",
    "        im = np.array(img)\n",
    "\n",
    "        x = im.reshape(D, 1) - pca.mean_.reshape(D, 1)\n",
    "        z = U.T.dot(x)\n",
    "        x_tilde = U.dot(z) + pca.mean_.reshape(D, 1)\n",
    "\n",
    "        # Tính sai số MSE\n",
    "        mse = np.mean((x + pca.mean_.reshape(D, 1) - x_tilde) ** 2)\n",
    "        reconstruction_errors.append(mse)\n",
    "\n",
    "# Vẽ biểu đồ sai số\n",
    "plt.figure(figsize=(8, 4))\n",
    "plt.plot(range(1, 7), reconstruction_errors, marker='o', color='b')\n",
    "plt.title(\"Sai số tái dựng (MSE) cho từng người (PCA)\")\n",
    "plt.xlabel(\"Person ID\")\n",
    "plt.ylabel(\"Sai số tái dựng (MSE)\")\n",
    "plt.xticks(range(1, 7))\n",
    "plt.grid(True)\n",
    "plt.tight_layout()\n",
    "plt.show()\n"
   ]
  },
  {
   "cell_type": "code",
   "execution_count": null,
   "metadata": {},
   "outputs": [],
   "source": [
    "import matplotlib.pyplot as plt\n",
    "from skimage.metrics import peak_signal_noise_ratio, structural_similarity\n",
    "\n",
    "psnr_list = []\n",
    "ssim_list = []\n",
    "person_ids = []\n",
    "\n",
    "for person_id in range(1, 16):\n",
    "    try:\n",
    "        # Load ảnh gốc\n",
    "        fn = path + prefix + str(person_id).zfill(2) + '.centerlight' + suffix\n",
    "        img = Image.open(fn).convert('L')\n",
    "        img = img.resize((98, 116))\n",
    "        im = np.array(img)\n",
    "\n",
    "        # reshape và chuẩn hóa\n",
    "        x = im.reshape(D, 1) - pca.mean_.reshape(D, 1)\n",
    "        z = U.T.dot(x)\n",
    "        x_tilde = U.dot(z) + pca.mean_.reshape(D, 1)\n",
    "        im_tilde = x_tilde.reshape(116, 98)\n",
    "\n",
    "        # Chuyển về uint8 để đánh giá\n",
    "        im_uint8 = im.astype(np.uint8)\n",
    "        im_tilde_uint8 = np.clip(im_tilde, 0, 255).astype(np.uint8)\n",
    "\n",
    "        # Tính PSNR và SSIM\n",
    "        psnr = peak_signal_noise_ratio(im_uint8, im_tilde_uint8)\n",
    "        ssim = structural_similarity(im_uint8, im_tilde_uint8)\n",
    "\n",
    "        psnr_list.append(psnr)\n",
    "        ssim_list.append(ssim)\n",
    "        person_ids.append(person_id)\n",
    "\n",
    "        print(f'Person {person_id}, PSNR: {psnr:.2f}, SSIM: {ssim:.4f}')\n",
    "\n",
    "    except Exception as e:\n",
    "        print(f\"Loi voi person {person_id}: {e}\")\n",
    "\n",
    "# VẼ BIỂU ĐỒ \n",
    "\n",
    "plt.figure(figsize=(12, 5))\n",
    "\n",
    "# PSNR\n",
    "plt.subplot(1, 2, 1)\n",
    "plt.bar(person_ids, psnr_list, color='skyblue')\n",
    "plt.title('PSNR (Peak Signal-to-Noise Ratio)')\n",
    "plt.xlabel('Person ID')\n",
    "plt.ylabel('PSNR (dB)')\n",
    "plt.ylim(0, max(psnr_list) + 5)\n",
    "\n",
    "# SSIM\n",
    "plt.subplot(1, 2, 2)\n",
    "plt.bar(person_ids, ssim_list, color='salmon')\n",
    "plt.title('SSIM (Structural Similarity)')\n",
    "plt.xlabel('Person ID')\n",
    "plt.ylabel('SSIM (0-1)')\n",
    "plt.ylim(0, 1.05)\n",
    "\n",
    "plt.tight_layout()\n",
    "plt.show()\n"
   ]
  },
  {
   "cell_type": "code",
   "execution_count": null,
   "metadata": {},
   "outputs": [],
   "source": [
    "from PIL import Image\n",
    "\n",
    "cnt = 0 \n",
    "for person_id in [10]:\n",
    "    for ii, state in enumerate(states):\n",
    "        fn = path + prefix + str(person_id).zfill(2) + '.' + state + suffix\n",
    "        img = Image.open(fn).convert('L')\n",
    "        # resize ve kich thuoc dong nhat (neu can)\n",
    "        img = img.resize((98, 116))  \n",
    "        im = np.array(img)\n",
    "\n",
    "        f1 = plt.imshow(im, interpolation='nearest')\n",
    "        f1.axes.get_xaxis().set_visible(False)\n",
    "        f1.axes.get_yaxis().set_visible(False)\n",
    "\n",
    "        fn = 'ex' + str(ii).zfill(2) +  '.png'\n",
    "        plt.axis('off')\n",
    "        plt.savefig(fn, bbox_inches='tight', pad_inches=0)\n",
    "        plt.show()\n"
   ]
  }
 ],
 "metadata": {
  "kernelspec": {
   "display_name": "Python 3",
   "language": "python",
   "name": "python3"
  },
  "language_info": {
   "codemirror_mode": {
    "name": "ipython",
    "version": 3
   },
   "file_extension": ".py",
   "mimetype": "text/x-python",
   "name": "python",
   "nbconvert_exporter": "python",
   "pygments_lexer": "ipython3",
   "version": "3.9.8"
  }
 },
 "nbformat": 4,
 "nbformat_minor": 2
}
