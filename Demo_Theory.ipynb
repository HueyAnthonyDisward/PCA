{
 "cells": [
  {
   "cell_type": "code",
   "execution_count": 1,
   "metadata": {},
   "outputs": [
    {
     "name": "stdout",
     "output_type": "stream",
     "text": [
      "[[0.165  0.135  0.0775]\n",
      " [0.135  0.113  0.0635]\n",
      " [0.0775 0.0635 0.037 ]]\n"
     ]
    }
   ],
   "source": [
    "import numpy as np\n",
    "\n",
    "# Dữ liệu có 3 biến (cột) và 5 quan sát (dòng)\n",
    "data = np.array([\n",
    "    [2.1, 3.0, 1.5],\n",
    "    [2.5, 3.2, 1.7],\n",
    "    [3.1, 3.8, 2.0],\n",
    "    [2.8, 3.5, 1.8],\n",
    "    [3.0, 3.7, 1.9]\n",
    "])\n",
    "\n",
    "# Tính ma trận hiệp phương sai\n",
    "cov_matrix = np.cov(data, rowvar=False)\n",
    "\n",
    "print(cov_matrix)\n"
   ]
  }
 ],
 "metadata": {
  "kernelspec": {
   "display_name": "Python 3",
   "language": "python",
   "name": "python3"
  },
  "language_info": {
   "codemirror_mode": {
    "name": "ipython",
    "version": 3
   },
   "file_extension": ".py",
   "mimetype": "text/x-python",
   "name": "python",
   "nbconvert_exporter": "python",
   "pygments_lexer": "ipython3",
   "version": "3.11.0"
  }
 },
 "nbformat": 4,
 "nbformat_minor": 2
}
